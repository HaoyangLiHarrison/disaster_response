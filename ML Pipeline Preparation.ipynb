{
 "cells": [
  {
   "cell_type": "markdown",
   "metadata": {},
   "source": [
    "# ML Pipeline Preparation\n",
    "Follow the instructions below to help you create your ML pipeline.\n",
    "### 1. Import libraries and load data from database.\n",
    "- Import Python libraries\n",
    "- Load dataset from database with [`read_sql_table`](https://pandas.pydata.org/pandas-docs/stable/generated/pandas.read_sql_table.html)\n",
    "- Define feature and target variables X and Y"
   ]
  },
  {
   "cell_type": "code",
   "execution_count": 1,
   "metadata": {},
   "outputs": [
    {
     "name": "stdout",
     "output_type": "stream",
     "text": [
      "[nltk_data] Downloading package punkt to /root/nltk_data...\n",
      "[nltk_data]   Unzipping tokenizers/punkt.zip.\n"
     ]
    },
    {
     "data": {
      "text/plain": [
       "True"
      ]
     },
     "execution_count": 1,
     "metadata": {},
     "output_type": "execute_result"
    }
   ],
   "source": [
    "# import libraries\n",
    "import pandas as pd\n",
    "import numpy as np\n",
    "from sqlalchemy import create_engine\n",
    "from sklearn.pipeline import Pipeline\n",
    "from sklearn.feature_extraction.text import CountVectorizer\n",
    "from sklearn.feature_extraction.text import TfidfVectorizer\n",
    "from sklearn.multioutput import MultiOutputClassifier\n",
    "from sklearn.ensemble import RandomForestClassifier\n",
    "from sklearn.ensemble import AdaBoostClassifier\n",
    "from sklearn.model_selection import train_test_split\n",
    "import nltk\n",
    "from nltk import word_tokenize\n",
    "import time\n",
    "import re\n",
    "from sklearn.externals import joblib\n",
    "from sklearn.metrics import classification_report\n",
    "from sklearn.model_selection import GridSearchCV\n",
    "pd.set_option('mode.chained_assignment', None)\n",
    "nltk.download('punkt')"
   ]
  },
  {
   "cell_type": "code",
   "execution_count": 2,
   "metadata": {},
   "outputs": [],
   "source": [
    "# load data from database\n",
    "engine = create_engine('sqlite:///disaster_messages.db')\n",
    "df = pd.read_sql_table(table_name='messages_categories',con=engine)"
   ]
  },
  {
   "cell_type": "code",
   "execution_count": 3,
   "metadata": {},
   "outputs": [
    {
     "data": {
      "text/plain": [
       "((26216,), (26216, 35))"
      ]
     },
     "execution_count": 3,
     "metadata": {},
     "output_type": "execute_result"
    }
   ],
   "source": [
    "X = df.message\n",
    "y = df.iloc[:,3:]\n",
    "X.shape,y.shape"
   ]
  },
  {
   "cell_type": "markdown",
   "metadata": {},
   "source": [
    "### 2. Write a tokenization function to process your text data"
   ]
  },
  {
   "cell_type": "code",
   "execution_count": 5,
   "metadata": {},
   "outputs": [],
   "source": [
    "def tokenize(text):\n",
    "    words = word_tokenize(text)\n",
    "    return words"
   ]
  },
  {
   "cell_type": "markdown",
   "metadata": {},
   "source": [
    "### 3. Build a machine learning pipeline\n",
    "This machine pipeline should take in the `message` column as input and output classification results on the other 36 categories in the dataset. You may find the [MultiOutputClassifier](http://scikit-learn.org/stable/modules/generated/sklearn.multioutput.MultiOutputClassifier.html) helpful for predicting multiple target variables."
   ]
  },
  {
   "cell_type": "code",
   "execution_count": 6,
   "metadata": {},
   "outputs": [],
   "source": [
    "pipeline = Pipeline([\n",
    "        ('vect', CountVectorizer(tokenizer=tokenize)),\n",
    "        ('clf', MultiOutputClassifier(RandomForestClassifier(random_state=42))),\n",
    "    ])"
   ]
  },
  {
   "cell_type": "markdown",
   "metadata": {},
   "source": [
    "### 4. Train pipeline\n",
    "- Split data into train and test sets\n",
    "- Train pipeline"
   ]
  },
  {
   "cell_type": "code",
   "execution_count": 7,
   "metadata": {},
   "outputs": [
    {
     "name": "stdout",
     "output_type": "stream",
     "text": [
      "Training data size:18351 documents.\n",
      "Baseline model took 1.13 minutes to train.\n"
     ]
    }
   ],
   "source": [
    "start = time.time()\n",
    "X_train, X_test, y_train, y_test = train_test_split(X, y, random_state=42,test_size=0.3)\n",
    "pipeline.fit(X_train, y_train)\n",
    "end = time.time()\n",
    "time_elapsed = (end - start)/60\n",
    "print('Training data size:{} documents.'.format(X_train.shape[0]))\n",
    "print('Baseline model took {} minutes to train.'.format(round(time_elapsed,2)))"
   ]
  },
  {
   "cell_type": "markdown",
   "metadata": {},
   "source": [
    "### 5. Test your model\n",
    "Report the f1 score, precision and recall for each output category of the dataset. You can do this by iterating through the columns and calling sklearn's `classification_report` on each."
   ]
  },
  {
   "cell_type": "code",
   "execution_count": 8,
   "metadata": {},
   "outputs": [
    {
     "name": "stdout",
     "output_type": "stream",
     "text": [
      "                        precision    recall  f1-score   support\n",
      "\n",
      "               related       0.94      0.81      0.87      6850\n",
      "               request       0.37      0.83      0.51       586\n",
      "                 offer       0.00      0.00      0.00         0\n",
      "           aid_related       0.52      0.75      0.61      2218\n",
      "          medical_help       0.07      0.58      0.12        76\n",
      "      medical_products       0.07      0.75      0.13        40\n",
      "     search_and_rescue       0.05      0.56      0.10        18\n",
      "              security       0.00      0.00      0.00         2\n",
      "              military       0.09      0.62      0.15        34\n",
      "                 water       0.25      0.78      0.37       158\n",
      "                  food       0.34      0.79      0.48       382\n",
      "               shelter       0.25      0.79      0.38       224\n",
      "              clothing       0.06      1.00      0.11         7\n",
      "                 money       0.05      0.67      0.09        12\n",
      "        missing_people       0.02      1.00      0.04         2\n",
      "              refugees       0.03      0.41      0.06        22\n",
      "                 death       0.14      0.89      0.24        56\n",
      "             other_aid       0.03      0.53      0.06        66\n",
      "infrastructure_related       0.01      0.54      0.03        13\n",
      "             transport       0.11      0.68      0.19        59\n",
      "             buildings       0.06      0.68      0.12        37\n",
      "           electricity       0.07      0.85      0.12        13\n",
      "                 tools       0.00      0.00      0.00         0\n",
      "             hospitals       0.00      0.00      0.00         1\n",
      "                 shops       0.00      0.00      0.00         0\n",
      "           aid_centers       0.00      0.00      0.00         0\n",
      "  other_infrastructure       0.00      0.00      0.00         1\n",
      "       weather_related       0.53      0.84      0.65      1355\n",
      "                floods       0.34      0.86      0.49       249\n",
      "                 storm       0.38      0.74      0.50       376\n",
      "                  fire       0.11      0.90      0.19        10\n",
      "            earthquake       0.44      0.87      0.58       354\n",
      "                  cold       0.13      0.76      0.22        29\n",
      "         other_weather       0.03      0.58      0.05        19\n",
      "         direct_report       0.31      0.77      0.44       615\n",
      "\n",
      "           avg / total       0.67      0.80      0.70     13884\n",
      "\n"
     ]
    },
    {
     "name": "stderr",
     "output_type": "stream",
     "text": [
      "/opt/conda/lib/python3.6/site-packages/sklearn/metrics/classification.py:1137: UndefinedMetricWarning: Recall and F-score are ill-defined and being set to 0.0 in labels with no true samples.\n",
      "  'recall', 'true', average, warn_for)\n"
     ]
    }
   ],
   "source": [
    "y_pred = pipeline.predict(X_test)\n",
    "print(classification_report(y_pred,y_test,target_names=y_test.columns))"
   ]
  },
  {
   "cell_type": "markdown",
   "metadata": {},
   "source": [
    "### 6. Improve your model\n",
    "Use grid search to find better parameters. "
   ]
  },
  {
   "cell_type": "code",
   "execution_count": 19,
   "metadata": {},
   "outputs": [],
   "source": [
    "parameters = {\n",
    "    'clf__estimator__min_samples_leaf' : [1,5,10],\n",
    "    'clf__estimator__max_features' : [\"auto\",'log2'] \n",
    "}\n",
    "cv = GridSearchCV(\n",
    "    estimator = pipeline, \n",
    "    param_grid = parameters, \n",
    "    cv = 3,\n",
    "    n_jobs = -1,\n",
    "    scoring = 'f1_samples',\n",
    "    return_train_score = True\n",
    ")\n",
    "cv.fit(X_train, y_train)"
   ]
  },
  {
   "cell_type": "markdown",
   "metadata": {},
   "source": [
    "### 7. Test your model\n",
    "Show the accuracy, precision, and recall of the tuned model.  \n",
    "\n",
    "Since this project focuses on code quality, process, and  pipelines, there is no minimum performance metric needed to pass. However, make sure to fine tune your models for accuracy, precision and recall to make your project stand out - especially for your portfolio!"
   ]
  },
  {
   "cell_type": "code",
   "execution_count": 10,
   "metadata": {},
   "outputs": [
    {
     "name": "stdout",
     "output_type": "stream",
     "text": [
      "                        precision    recall  f1-score   support\n",
      "\n",
      "               related       0.97      0.80      0.88      7211\n",
      "               request       0.42      0.89      0.57       626\n",
      "                 offer       0.00      0.00      0.00         0\n",
      "           aid_related       0.61      0.78      0.69      2507\n",
      "          medical_help       0.07      0.72      0.12        60\n",
      "      medical_products       0.07      0.79      0.14        39\n",
      "     search_and_rescue       0.03      0.50      0.05        10\n",
      "              security       0.00      0.00      0.00         1\n",
      "              military       0.04      0.64      0.07        14\n",
      "                 water       0.26      0.90      0.40       142\n",
      "                  food       0.43      0.89      0.58       429\n",
      "               shelter       0.25      0.82      0.38       215\n",
      "              clothing       0.06      0.88      0.11         8\n",
      "                 money       0.05      0.80      0.09        10\n",
      "        missing_people       0.02      1.00      0.04         2\n",
      "              refugees       0.01      0.30      0.02        10\n",
      "                 death       0.11      0.78      0.19        51\n",
      "             other_aid       0.02      0.63      0.04        30\n",
      "infrastructure_related       0.01      0.38      0.01         8\n",
      "             transport       0.11      0.76      0.20        54\n",
      "             buildings       0.09      0.83      0.16        41\n",
      "           electricity       0.04      0.86      0.07         7\n",
      "                 tools       0.00      0.00      0.00         0\n",
      "             hospitals       0.00      0.00      0.00         1\n",
      "                 shops       0.00      0.00      0.00         0\n",
      "           aid_centers       0.00      0.00      0.00         1\n",
      "  other_infrastructure       0.00      0.00      0.00         3\n",
      "       weather_related       0.62      0.86      0.72      1552\n",
      "                floods       0.42      0.88      0.57       300\n",
      "                 storm       0.44      0.79      0.56       414\n",
      "                  fire       0.01      0.33      0.02         3\n",
      "            earthquake       0.69      0.87      0.77       550\n",
      "                  cold       0.05      0.90      0.10        10\n",
      "         other_weather       0.01      0.67      0.03         9\n",
      "         direct_report       0.34      0.85      0.49       619\n",
      "\n",
      "           avg / total       0.73      0.81      0.74     14937\n",
      "\n"
     ]
    },
    {
     "name": "stderr",
     "output_type": "stream",
     "text": [
      "/opt/conda/lib/python3.6/site-packages/sklearn/metrics/classification.py:1137: UndefinedMetricWarning: Recall and F-score are ill-defined and being set to 0.0 in labels with no true samples.\n",
      "  'recall', 'true', average, warn_for)\n"
     ]
    }
   ],
   "source": [
    "tuned_pipeline = Pipeline([\n",
    "        ('vect', CountVectorizer(tokenizer=tokenize)),\n",
    "        ('clf', MultiOutputClassifier(\n",
    "            RandomForestClassifier(\n",
    "                random_state=42,\n",
    "                max_features = 'auto',\n",
    "                min_samples_leaf = 1,\n",
    "                n_estimators = 200\n",
    "                )\n",
    "            )\n",
    "        ),\n",
    "    ])\n",
    "tuned_pipeline.fit(X_train, y_train)\n",
    "y_pred_tuned = tuned_pipeline.predict(X_test)\n",
    "print(classification_report(y_pred_tuned,y_test,target_names=y_test.columns))"
   ]
  },
  {
   "cell_type": "markdown",
   "metadata": {},
   "source": [
    "### 8. Try improving your model further. Here are a few ideas:\n",
    "* try other machine learning algorithms\n",
    "* add other features besides the TF-IDF"
   ]
  },
  {
   "cell_type": "code",
   "execution_count": 7,
   "metadata": {},
   "outputs": [
    {
     "name": "stdout",
     "output_type": "stream",
     "text": [
      "                        precision    recall  f1-score   support\n",
      "\n",
      "               related       0.97      0.79      0.87      7259\n",
      "               request       0.46      0.83      0.59       738\n",
      "                 offer       0.00      0.00      0.00         5\n",
      "           aid_related       0.58      0.78      0.67      2408\n",
      "          medical_help       0.17      0.61      0.27       178\n",
      "      medical_products       0.22      0.73      0.34       128\n",
      "     search_and_rescue       0.12      0.60      0.21        40\n",
      "              security       0.00      0.00      0.00         3\n",
      "              military       0.17      0.53      0.26        80\n",
      "                 water       0.64      0.73      0.68       437\n",
      "                  food       0.71      0.83      0.76       756\n",
      "               shelter       0.50      0.83      0.62       426\n",
      "              clothing       0.38      0.68      0.49        65\n",
      "                 money       0.23      0.57      0.33        68\n",
      "        missing_people       0.12      0.55      0.20        20\n",
      "              refugees       0.20      0.66      0.30        77\n",
      "                 death       0.36      0.81      0.50       162\n",
      "             other_aid       0.08      0.61      0.14       129\n",
      "infrastructure_related       0.05      0.65      0.09        37\n",
      "             transport       0.17      0.83      0.29        76\n",
      "             buildings       0.30      0.82      0.44       142\n",
      "           electricity       0.17      0.63      0.27        46\n",
      "                 tools       0.00      0.00      0.00         4\n",
      "             hospitals       0.04      0.25      0.07        12\n",
      "                 shops       0.00      0.00      0.00         9\n",
      "           aid_centers       0.06      0.35      0.10        17\n",
      "  other_infrastructure       0.03      0.56      0.05        16\n",
      "       weather_related       0.60      0.88      0.71      1483\n",
      "                floods       0.53      0.88      0.66       374\n",
      "                 storm       0.44      0.76      0.56       432\n",
      "                  fire       0.12      0.45      0.19        22\n",
      "            earthquake       0.78      0.88      0.83       620\n",
      "                  cold       0.30      0.75      0.43        68\n",
      "         other_weather       0.06      0.49      0.11        51\n",
      "         direct_report       0.35      0.75      0.48       729\n",
      "\n",
      "           avg / total       0.71      0.79      0.72     17117\n",
      "\n"
     ]
    }
   ],
   "source": [
    "improved_pipeline = Pipeline([\n",
    "        ('vect', TfidfVectorizer(tokenizer=tokenize,stop_words='english')),\n",
    "        (\n",
    "            'clf', MultiOutputClassifier(\n",
    "                AdaBoostClassifier(\n",
    "                    random_state = 42,\n",
    "                    learning_rate = 0.3,\n",
    "                    n_estimators = 200\n",
    "                )\n",
    "            )\n",
    "        ),\n",
    "    ])\n",
    "improved_pipeline.fit(X_train, y_train)\n",
    "y_pred_improved = improved_pipeline.predict(X_test)\n",
    "print(classification_report(y_pred_improved,y_test,target_names=y_test.columns))"
   ]
  },
  {
   "cell_type": "markdown",
   "metadata": {},
   "source": [
    "### 9. Export your model as a pickle file"
   ]
  },
  {
   "cell_type": "code",
   "execution_count": 8,
   "metadata": {},
   "outputs": [
    {
     "data": {
      "text/plain": [
       "['model.pkl']"
      ]
     },
     "execution_count": 8,
     "metadata": {},
     "output_type": "execute_result"
    }
   ],
   "source": [
    "joblib.dump(improved_pipeline, 'model.pkl')"
   ]
  },
  {
   "cell_type": "markdown",
   "metadata": {},
   "source": [
    "### 10. Use this notebook to complete `train.py`\n",
    "Use the template file attached in the Resources folder to write a script that runs the steps above to create a database and export a model based on a new dataset specified by the user."
   ]
  },
  {
   "cell_type": "code",
   "execution_count": null,
   "metadata": {},
   "outputs": [],
   "source": []
  }
 ],
 "metadata": {
  "kernelspec": {
   "display_name": "Python 3",
   "language": "python",
   "name": "python3"
  },
  "language_info": {
   "codemirror_mode": {
    "name": "ipython",
    "version": 3
   },
   "file_extension": ".py",
   "mimetype": "text/x-python",
   "name": "python",
   "nbconvert_exporter": "python",
   "pygments_lexer": "ipython3",
   "version": "3.6.3"
  }
 },
 "nbformat": 4,
 "nbformat_minor": 2
}
